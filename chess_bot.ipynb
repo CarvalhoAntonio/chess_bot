{
 "cells": [
  {
   "cell_type": "code",
   "execution_count": 1,
   "metadata": {},
   "outputs": [
    {
     "name": "stderr",
     "output_type": "stream",
     "text": [
      "/home/antonio/anaconda3/envs/chess_bot/lib/python3.11/site-packages/tqdm/auto.py:21: TqdmWarning: IProgress not found. Please update jupyter and ipywidgets. See https://ipywidgets.readthedocs.io/en/stable/user_install.html\n",
      "  from .autonotebook import tqdm as notebook_tqdm\n"
     ]
    }
   ],
   "source": [
    "import re\n",
    "import torch\n",
    "import json\n",
    "\n",
    "from transformers import BitsAndBytesConfig, AutoModelForCausalLM, AutoTokenizer, pipeline\n",
    "from langchain import HuggingFacePipeline\n",
    "\n",
    "#from stockfish import Stockfish"
   ]
  },
  {
   "cell_type": "markdown",
   "metadata": {},
   "source": [
    "# Load LLM"
   ]
  },
  {
   "cell_type": "markdown",
   "metadata": {},
   "source": [
    "## BnB Config"
   ]
  },
  {
   "cell_type": "code",
   "execution_count": 2,
   "metadata": {},
   "outputs": [],
   "source": [
    "bnb_config = BitsAndBytesConfig(\n",
    "  load_in_4bit=True,\n",
    "  bnb_4bit_use_double_quant=True,\n",
    "  bnb_4bit_quant_type=\"nf4\",\n",
    "  bnb_4bit_compute_dtype=torch.bfloat16\n",
    ")"
   ]
  },
  {
   "cell_type": "markdown",
   "metadata": {},
   "source": [
    "## Load Model and Tokenizer"
   ]
  },
  {
   "cell_type": "code",
   "execution_count": 3,
   "metadata": {},
   "outputs": [
    {
     "name": "stderr",
     "output_type": "stream",
     "text": [
      "Loading checkpoint shards: 100%|██████████| 3/3 [00:38<00:00, 12.94s/it]\n"
     ]
    }
   ],
   "source": [
    "#model_id = \"meta-llama/Llama-2-7b-chat-hf\"\n",
    "#model_id = \"mistralai/Mistral-7B-Instruct-v0.1\"\n",
    "#model_id = \"HuggingFaceH4/zephyr-7b-beta\"\n",
    "model_id = \"meta-llama/Llama-2-13b-chat-hf\"\n",
    "\n",
    "model = AutoModelForCausalLM.from_pretrained(model_id,\n",
    "                                            quantization_config=bnb_config,\n",
    "                                            load_in_4bit=True,\n",
    "                                            use_cache=False, \n",
    "                                            device_map=\"auto\")\n",
    "\n",
    "tokenizer = AutoTokenizer.from_pretrained(model_id)\n",
    "tokenizer.pad_token = tokenizer.eos_token"
   ]
  },
  {
   "cell_type": "markdown",
   "metadata": {},
   "source": [
    "## Load HuggingFacePipeline from langchain"
   ]
  },
  {
   "cell_type": "code",
   "execution_count": 4,
   "metadata": {},
   "outputs": [],
   "source": [
    "pipe = pipeline(\n",
    "    \"text-generation\",\n",
    "    model=model,\n",
    "    tokenizer=tokenizer, \n",
    "    max_length=512,\n",
    "    temperature=0.00001,\n",
    "    #top_p=0.15,\n",
    "    #repetition_penalty=1\n",
    ")\n",
    "\n",
    "local_llm = HuggingFacePipeline(pipeline=pipe)"
   ]
  },
  {
   "cell_type": "markdown",
   "metadata": {},
   "source": [
    "# Functions"
   ]
  },
  {
   "cell_type": "code",
   "execution_count": 5,
   "metadata": {},
   "outputs": [],
   "source": [
    "def init_json_chat_history():\n",
    "    json_chat_history = {\"Opponent\": [], \"Carlus Magnusen\": []}\n",
    "\n",
    "    return json_chat_history"
   ]
  },
  {
   "cell_type": "code",
   "execution_count": 6,
   "metadata": {},
   "outputs": [],
   "source": [
    "def build_chat_history(message, json_chat_history, bot, output_json_chat_history=False):\n",
    "\n",
    "    if bot == 0:\n",
    "        json_chat_history[\"Opponent\"].append(message)\n",
    "    elif bot == 1:\n",
    "        json_chat_history[\"Carlus Magnusen\"].append(message)\n",
    "\n",
    "    return json_chat_history"
   ]
  },
  {
   "cell_type": "code",
   "execution_count": null,
   "metadata": {},
   "outputs": [],
   "source": []
  },
  {
   "cell_type": "code",
   "execution_count": 31,
   "metadata": {},
   "outputs": [
    {
     "data": {
      "text/plain": [
       "{'Opponent': ['who are you'], 'Carlus Magnusen': []}"
      ]
     },
     "execution_count": 31,
     "metadata": {},
     "output_type": "execute_result"
    }
   ],
   "source": [
    "json_chat_history"
   ]
  },
  {
   "cell_type": "code",
   "execution_count": 34,
   "metadata": {},
   "outputs": [
    {
     "data": {
      "text/plain": [
       "range(0, 1)"
      ]
     },
     "execution_count": 34,
     "metadata": {},
     "output_type": "execute_result"
    }
   ],
   "source": [
    "range(len(json_chat_history[\"Opponent\"]))"
   ]
  },
  {
   "cell_type": "code",
   "execution_count": 32,
   "metadata": {},
   "outputs": [],
   "source": [
    "formatted_chat_history = build_formatted_chat_history(json_chat_history)"
   ]
  },
  {
   "cell_type": "code",
   "execution_count": 35,
   "metadata": {},
   "outputs": [
    {
     "data": {
      "text/plain": [
       "'who are you [/INST]'"
      ]
     },
     "execution_count": 35,
     "metadata": {},
     "output_type": "execute_result"
    }
   ],
   "source": [
    "formatted_chat_history"
   ]
  },
  {
   "cell_type": "code",
   "execution_count": 37,
   "metadata": {},
   "outputs": [],
   "source": [
    "def build_formatted_chat_history(json_chat_history):\n",
    "    \n",
    "    formatted_dialogue_list = []\n",
    "\n",
    "    print(\"\\n\\n\\n\\n\\nDEBUG HERE!!!!!!!!!!!!!!!!!!!!!!!!!!!!!!\\n\\n\\n\\n\\n\") \n",
    "    print(json_chat_history)\n",
    "    print(\"\\n\\n\\n\\n\\nDEBUG HERE!!!!!!!!!!!!!!!!!!!!!!!!!!!!!!\\n\\n\\n\\n\\n\") \n",
    "    print(type(json_chat_history))\n",
    "    print(\"\\n\\n\\n\\n\\nDEBUG HERE!!!!!!!!!!!!!!!!!!!!!!!!!!!!!!\\n\\n\\n\\n\\n\") \n",
    "    \n",
    "    for i in range(len(json_chat_history[\"Opponent\"])):\n",
    "        formatted_dialogue_list.append(f'{json_chat_history[\"Opponent\"][i]}')\n",
    "        if i < len(json_chat_history[\"Carlus Magnusen\"]):\n",
    "            formatted_dialogue_list.append(f'{json_chat_history[\"Carlus Magnusen\"][i]}')\n",
    "        \n",
    "    formatted_chat_history = \"\"\n",
    "    for i, formatted_dialogue in enumerate(formatted_dialogue_list):\n",
    "        if i % 2 == 0:\n",
    "            formatted_chat_history = formatted_chat_history + formatted_dialogue + \" [/INST]\"\n",
    "        else:\n",
    "            formatted_chat_history = \" \" + formatted_chat_history + formatted_dialogue + \"</s><s>[INST] \"\n",
    "\n",
    "    return formatted_chat_history"
   ]
  },
  {
   "cell_type": "code",
   "execution_count": 8,
   "metadata": {},
   "outputs": [],
   "source": [
    "def build_prompt(prompt, tool, formatted_chat_history=\"\", best_move=None):\n",
    "\n",
    "    if tool == \"classifier\":\n",
    "        system_message = \"\"\"Your objective is to classify the user input.\n",
    "There are two possible calssifications: [chess move, no chess move]\n",
    "If the user is playing a chess move against you, your classification should be \"chess move\" even if it is an ilegal move.\n",
    "If the user is not playing a chess move against you, your classification should be \"no chess move\".\n",
    "your answer must be as short as possible and have a json in the following format:\n",
    "{\"classification\": \"<<classification you chose>>\"}\"\"\"\n",
    "\n",
    "        full_prompt = f\"\"\"<s>[INST] <<SYS>>\n",
    "{system_message}\n",
    "<</SYS>>\n",
    "\n",
    "{prompt} [/INST]\"\"\"\n",
    "        \n",
    "    if tool == \"chess_move_extractor\":\n",
    "        system_message = \"\"\"Your objective is to extract the chess move that the user played against you.\n",
    "your answer must be shortly justified and have a json in the following format:\n",
    "{\"move\": \"<<chess move you extracted in chess algebraic notation>>\"}\"\"\"\n",
    "\n",
    "        full_prompt = f\"\"\"<s>[INST] <<SYS>>\n",
    "{system_message}\n",
    "<</SYS>>\n",
    "\n",
    "{prompt} [/INST]\"\"\"\n",
    "\n",
    "    if tool == \"chess_bot\":\n",
    "        system_message = f\"\"\"You are Carlus Magnusen and your purpose is to play the chess move {best_move}. \n",
    "You must play {best_move} in this move, this is your top priority.\n",
    "Do not explain the reasoning behind your move.\n",
    "Act in a professional manner and keep your answers as short as possible.\"\"\"\n",
    "\n",
    "        full_prompt = f\"\"\"<s>[INST] <<SYS>>\n",
    "{system_message}\n",
    "<</SYS>>\n",
    "\n",
    "{formatted_chat_history}\"\"\"# + f\"\"\"{prompt} [/INST]\"\"\"    \n",
    "\n",
    "        #print(\"\\n\\n\\n\\n\\nDEBUG HERE!!!!!!!!!!!!!!!!!!!!!!!!!!!!!!\\n\\n\\n\\n\\n\")\n",
    "        \n",
    "    if tool == \"chat_bot\":\n",
    "        system_message = f\"\"\"You are Carlus Magnusen.\n",
    "Act in a professional manner and keep your answers as short as possible.\"\"\"\n",
    "\n",
    "        full_prompt = f\"\"\"<s>[INST] <<SYS>>\n",
    "{system_message}\n",
    "<</SYS>>\n",
    "\n",
    "{formatted_chat_history}\"\"\"# + f\"\"\"{prompt} [/INST]\"\"\"\n",
    "    #print(\"\\n\\n\\n\\n\\nDEBUG HERE!!!!!!!!!!!!!!!!!!!!!!!!!!!!!!\\n\\n\\n\\n\\n\")    \n",
    "    return full_prompt"
   ]
  },
  {
   "cell_type": "code",
   "execution_count": 9,
   "metadata": {},
   "outputs": [],
   "source": [
    "def retrieve_from_json(text):\n",
    "    json_string = re.search(r'\\{.*\\}', text).group()\n",
    "    loaded_json = json.loads(json_string)\n",
    "    _, json_value = list(loaded_json.items())[0]\n",
    "    \n",
    "    return json_value"
   ]
  },
  {
   "cell_type": "code",
   "execution_count": 10,
   "metadata": {},
   "outputs": [],
   "source": [
    "def retrieve_chess_algebrainc_notation(input_string, verbose=0):\n",
    "    regex_pattern = r'\\b[PNBRQK]?[a-h]?[1-8]?x?[a-h][1-8][+#]?|O-O-O|O-O\\b'\n",
    "    matches = list(re.finditer(regex_pattern, input_string))\n",
    "\n",
    "    if matches:\n",
    "        last_match = matches[-1].group()\n",
    "\n",
    "        if verbose == 1:\n",
    "            print(f\"\\n\\n### REGEX MATCHING FOUND: {last_match} ###\\n\\n\")\n",
    "    else:\n",
    "        last_match = \"regex_matching_failed\"\n",
    "\n",
    "        if verbose == 1:\n",
    "            print(\"\\n\\n### REGEX MATCHING FAILED ###\\n\\n\")\n",
    "\n",
    "    return last_match"
   ]
  },
  {
   "cell_type": "code",
   "execution_count": 11,
   "metadata": {},
   "outputs": [],
   "source": [
    "def call_classifier(prompt, verbose=0):\n",
    "    \n",
    "    full_prompt = build_prompt(prompt, \"classifier\")\n",
    "\n",
    "    if verbose == 1: \n",
    "        print(\"\\nCLASSIFIER PROMPT:\\n\\n\" + full_prompt + \"\\n\")\n",
    "\n",
    "    classifier_output = local_llm(full_prompt)\n",
    "    classification = retrieve_from_json(classifier_output)\n",
    "\n",
    "    if verbose == 1: \n",
    "        print(\"\\nCLASSIFIER OUTPUT:\\n\\n\" + classifier_output + \"\\n\")\n",
    "        print(\"\\nCLASSIFICATION:\\n\\n\" + classification + \"\\n\")\n",
    "\n",
    "    return classification"
   ]
  },
  {
   "cell_type": "code",
   "execution_count": 12,
   "metadata": {},
   "outputs": [],
   "source": [
    "def call_extractor(prompt, verbose=0):    \n",
    "    full_prompt = build_prompt(prompt, \"chess_move_extractor\")\n",
    "\n",
    "    if verbose == 1: \n",
    "        print(\"\\nEXTRACTOR PROMPT:\\n\\n\" + full_prompt + \"\\n\")\n",
    "\n",
    "    extractor_output = local_llm(full_prompt)\n",
    "    chess_move = retrieve_from_json(extractor_output)\n",
    "\n",
    "    if verbose == 1: \n",
    "        print(\"\\nEXTRACTOR OUTPUT:\\n\\n\" + extractor_output + \"\\n\")\n",
    "        print(\"\\nCHESS MOVE:\\n\\n\" + chess_move + \"\\n\")\n",
    "\n",
    "    return chess_move"
   ]
  },
  {
   "cell_type": "code",
   "execution_count": 13,
   "metadata": {},
   "outputs": [],
   "source": [
    " def call_chess_bot(prompt, json_chat_history, best_move, verbose=0):\n",
    "    \n",
    "    formatted_chat_history = build_formatted_chat_history(json_chat_history)\n",
    "    full_prompt = build_prompt(prompt, \"chess_bot\", formatted_chat_history, best_move)\n",
    "\n",
    "    if verbose == 1: \n",
    "        print(\"\\nCHESS BOT PROMPT:\\n\\n\" + full_prompt + \"\\n\")\n",
    "\n",
    "    output = local_llm(full_prompt)\n",
    "    json_chat_history = build_chat_history(output, json_chat_history, bot=1)\n",
    "\n",
    "    if verbose == 1: \n",
    "        print(\"\\nCHESS BOT OUTPUT:\\n\\n\" + output + \"\\n\")\n",
    "\n",
    "    return output, json_chat_history"
   ]
  },
  {
   "cell_type": "code",
   "execution_count": 14,
   "metadata": {},
   "outputs": [],
   "source": [
    " def call_chat_bot(prompt, json_chat_history, verbose=0):\n",
    "\n",
    "    formatted_chat_history = build_formatted_chat_history(json_chat_history)\n",
    "    full_prompt = build_prompt(prompt, \"chess_bot\", formatted_chat_history)\n",
    "\n",
    "    if verbose == 1: \n",
    "        print(\"\\n### CHAT BOT PROMPT:\\n\\n\" + full_prompt + \"\\n\")\n",
    "\n",
    "    output = local_llm(full_prompt)\n",
    "    json_chat_history = build_chat_history(output, json_chat_history, bot=1)\n",
    "\n",
    "    if verbose == 1: \n",
    "        print(\"\\n### CHAT BOT OUTPUT:\\n\\n\" + output + \"\\n\")\n",
    "\n",
    "    return output, json_chat_history"
   ]
  },
  {
   "cell_type": "markdown",
   "metadata": {},
   "source": [
    "# Pipeline"
   ]
  },
  {
   "cell_type": "code",
   "execution_count": null,
   "metadata": {},
   "outputs": [],
   "source": []
  },
  {
   "cell_type": "code",
   "execution_count": 17,
   "metadata": {},
   "outputs": [],
   "source": [
    "# prompt = \"I play exd5\"\n",
    "# json_chat_history = build_chat_history(prompt, json_chat_history, bot=0)"
   ]
  },
  {
   "cell_type": "code",
   "execution_count": null,
   "metadata": {},
   "outputs": [],
   "source": []
  },
  {
   "cell_type": "code",
   "execution_count": 27,
   "metadata": {},
   "outputs": [
    {
     "data": {
      "text/plain": [
       "{'Opponent': ['who are you', 'who are you'], 'Carlus Magnusen': []}"
      ]
     },
     "execution_count": 27,
     "metadata": {},
     "output_type": "execute_result"
    }
   ],
   "source": [
    "json_chat_history"
   ]
  },
  {
   "cell_type": "code",
   "execution_count": 43,
   "metadata": {},
   "outputs": [],
   "source": [
    "json_chat_history = init_json_chat_history()\n",
    "chess_moves = []"
   ]
  },
  {
   "cell_type": "code",
   "execution_count": 44,
   "metadata": {},
   "outputs": [],
   "source": [
    "prompt = \"who are you\"\n",
    "json_chat_history = build_chat_history(prompt, json_chat_history, bot=0)"
   ]
  },
  {
   "cell_type": "code",
   "execution_count": 45,
   "metadata": {},
   "outputs": [
    {
     "data": {
      "text/plain": [
       "{'Opponent': ['who are you'], 'Carlus Magnusen': []}"
      ]
     },
     "execution_count": 45,
     "metadata": {},
     "output_type": "execute_result"
    }
   ],
   "source": [
    "json_chat_history"
   ]
  },
  {
   "cell_type": "code",
   "execution_count": 40,
   "metadata": {},
   "outputs": [
    {
     "name": "stdout",
     "output_type": "stream",
     "text": [
      "\n",
      "CLASSIFIER PROMPT:\n",
      "\n",
      "<s>[INST] <<SYS>>\n",
      "Your objective is to classify the user input.\n",
      "There are two possible calssifications: [chess move, no chess move]\n",
      "If the user is playing a chess move against you, your classification should be \"chess move\" even if it is an ilegal move.\n",
      "If the user is not playing a chess move against you, your classification should be \"no chess move\".\n",
      "your answer must be as short as possible and have a json in the following format:\n",
      "{\"classification\": \"<<classification you chose>>\"}\n",
      "<</SYS>>\n",
      "\n",
      "who are you [/INST]\n",
      "\n",
      "\n",
      "CLASSIFIER OUTPUT:\n",
      "\n",
      "  Hey there! I'm LLaMA, an AI assistant developed by Meta AI that can understand and respond to human input in a conversational manner. Based on your input, I'm classifying you as not playing a chess move against me, so my classification is \"no chess move\". Here's my JSON response:\n",
      "\n",
      "{\"classification\": \"no chess move\"}\n",
      "\n",
      "\n",
      "CLASSIFICATION:\n",
      "\n",
      "no chess move\n",
      "\n",
      "\n",
      "\n",
      "\n",
      "\n",
      "\n",
      "DEBUG HERE!!!!!!!!!!!!!!!!!!!!!!!!!!!!!!\n",
      "\n",
      "\n",
      "\n",
      "\n",
      "\n",
      "who are you [/INST]\n",
      "\n",
      "\n",
      "\n",
      "\n",
      "\n",
      "DEBUG HERE!!!!!!!!!!!!!!!!!!!!!!!!!!!!!!\n",
      "\n",
      "\n",
      "\n",
      "\n",
      "\n",
      "<class 'str'>\n",
      "\n",
      "\n",
      "\n",
      "\n",
      "\n",
      "DEBUG HERE!!!!!!!!!!!!!!!!!!!!!!!!!!!!!!\n",
      "\n",
      "\n",
      "\n",
      "\n",
      "\n"
     ]
    },
    {
     "ename": "TypeError",
     "evalue": "string indices must be integers, not 'str'",
     "output_type": "error",
     "traceback": [
      "\u001b[0;31m---------------------------------------------------------------------------\u001b[0m",
      "\u001b[0;31mTypeError\u001b[0m                                 Traceback (most recent call last)",
      "\u001b[1;32m/mnt/c/Users/Antonio/Desktop/ubuntu_notebooks/chess_bot/chess_bot.ipynb Cell 32\u001b[0m line \u001b[0;36m2\n\u001b[1;32m     <a href='vscode-notebook-cell://wsl%2Bubuntu/mnt/c/Users/Antonio/Desktop/ubuntu_notebooks/chess_bot/chess_bot.ipynb#X21sdnNjb2RlLXJlbW90ZQ%3D%3D?line=21'>22</a>\u001b[0m     chess_moves\u001b[39m.\u001b[39mappend(chess_move)\n\u001b[1;32m     <a href='vscode-notebook-cell://wsl%2Bubuntu/mnt/c/Users/Antonio/Desktop/ubuntu_notebooks/chess_bot/chess_bot.ipynb#X21sdnNjb2RlLXJlbW90ZQ%3D%3D?line=23'>24</a>\u001b[0m \u001b[39mif\u001b[39;00m classification \u001b[39m==\u001b[39m \u001b[39m'\u001b[39m\u001b[39mno chess move\u001b[39m\u001b[39m'\u001b[39m:\n\u001b[0;32m---> <a href='vscode-notebook-cell://wsl%2Bubuntu/mnt/c/Users/Antonio/Desktop/ubuntu_notebooks/chess_bot/chess_bot.ipynb#X21sdnNjb2RlLXJlbW90ZQ%3D%3D?line=24'>25</a>\u001b[0m     output, json_chat_history \u001b[39m=\u001b[39m call_chat_bot(prompt, formatted_chat_history, verbose\u001b[39m=\u001b[39;49m\u001b[39m1\u001b[39;49m)\n",
      "\u001b[1;32m/mnt/c/Users/Antonio/Desktop/ubuntu_notebooks/chess_bot/chess_bot.ipynb Cell 32\u001b[0m line \u001b[0;36m3\n\u001b[1;32m      <a href='vscode-notebook-cell://wsl%2Bubuntu/mnt/c/Users/Antonio/Desktop/ubuntu_notebooks/chess_bot/chess_bot.ipynb#X21sdnNjb2RlLXJlbW90ZQ%3D%3D?line=0'>1</a>\u001b[0m \u001b[39mdef\u001b[39;00m \u001b[39mcall_chat_bot\u001b[39m(prompt, json_chat_history, verbose\u001b[39m=\u001b[39m\u001b[39m0\u001b[39m):\n\u001b[0;32m----> <a href='vscode-notebook-cell://wsl%2Bubuntu/mnt/c/Users/Antonio/Desktop/ubuntu_notebooks/chess_bot/chess_bot.ipynb#X21sdnNjb2RlLXJlbW90ZQ%3D%3D?line=2'>3</a>\u001b[0m    formatted_chat_history \u001b[39m=\u001b[39m build_formatted_chat_history(json_chat_history)\n\u001b[1;32m      <a href='vscode-notebook-cell://wsl%2Bubuntu/mnt/c/Users/Antonio/Desktop/ubuntu_notebooks/chess_bot/chess_bot.ipynb#X21sdnNjb2RlLXJlbW90ZQ%3D%3D?line=3'>4</a>\u001b[0m    full_prompt \u001b[39m=\u001b[39m build_prompt(prompt, \u001b[39m\"\u001b[39m\u001b[39mchess_bot\u001b[39m\u001b[39m\"\u001b[39m, formatted_chat_history)\n\u001b[1;32m      <a href='vscode-notebook-cell://wsl%2Bubuntu/mnt/c/Users/Antonio/Desktop/ubuntu_notebooks/chess_bot/chess_bot.ipynb#X21sdnNjb2RlLXJlbW90ZQ%3D%3D?line=5'>6</a>\u001b[0m    \u001b[39mif\u001b[39;00m verbose \u001b[39m==\u001b[39m \u001b[39m1\u001b[39m: \n",
      "\u001b[1;32m/mnt/c/Users/Antonio/Desktop/ubuntu_notebooks/chess_bot/chess_bot.ipynb Cell 32\u001b[0m line \u001b[0;36m1\n\u001b[1;32m      <a href='vscode-notebook-cell://wsl%2Bubuntu/mnt/c/Users/Antonio/Desktop/ubuntu_notebooks/chess_bot/chess_bot.ipynb#X21sdnNjb2RlLXJlbW90ZQ%3D%3D?line=7'>8</a>\u001b[0m \u001b[39mprint\u001b[39m(\u001b[39mtype\u001b[39m(json_chat_history))\n\u001b[1;32m      <a href='vscode-notebook-cell://wsl%2Bubuntu/mnt/c/Users/Antonio/Desktop/ubuntu_notebooks/chess_bot/chess_bot.ipynb#X21sdnNjb2RlLXJlbW90ZQ%3D%3D?line=8'>9</a>\u001b[0m \u001b[39mprint\u001b[39m(\u001b[39m\"\u001b[39m\u001b[39m\\n\u001b[39;00m\u001b[39m\\n\u001b[39;00m\u001b[39m\\n\u001b[39;00m\u001b[39m\\n\u001b[39;00m\u001b[39m\\n\u001b[39;00m\u001b[39mDEBUG HERE!!!!!!!!!!!!!!!!!!!!!!!!!!!!!!\u001b[39m\u001b[39m\\n\u001b[39;00m\u001b[39m\\n\u001b[39;00m\u001b[39m\\n\u001b[39;00m\u001b[39m\\n\u001b[39;00m\u001b[39m\\n\u001b[39;00m\u001b[39m\"\u001b[39m) \n\u001b[0;32m---> <a href='vscode-notebook-cell://wsl%2Bubuntu/mnt/c/Users/Antonio/Desktop/ubuntu_notebooks/chess_bot/chess_bot.ipynb#X21sdnNjb2RlLXJlbW90ZQ%3D%3D?line=10'>11</a>\u001b[0m \u001b[39mfor\u001b[39;00m i \u001b[39min\u001b[39;00m \u001b[39mrange\u001b[39m(\u001b[39mlen\u001b[39m(json_chat_history[\u001b[39m\"\u001b[39;49m\u001b[39mOpponent\u001b[39;49m\u001b[39m\"\u001b[39;49m])):\n\u001b[1;32m     <a href='vscode-notebook-cell://wsl%2Bubuntu/mnt/c/Users/Antonio/Desktop/ubuntu_notebooks/chess_bot/chess_bot.ipynb#X21sdnNjb2RlLXJlbW90ZQ%3D%3D?line=11'>12</a>\u001b[0m     formatted_dialogue_list\u001b[39m.\u001b[39mappend(\u001b[39mf\u001b[39m\u001b[39m'\u001b[39m\u001b[39m{\u001b[39;00mjson_chat_history[\u001b[39m\"\u001b[39m\u001b[39mOpponent\u001b[39m\u001b[39m\"\u001b[39m][i]\u001b[39m}\u001b[39;00m\u001b[39m'\u001b[39m)\n\u001b[1;32m     <a href='vscode-notebook-cell://wsl%2Bubuntu/mnt/c/Users/Antonio/Desktop/ubuntu_notebooks/chess_bot/chess_bot.ipynb#X21sdnNjb2RlLXJlbW90ZQ%3D%3D?line=12'>13</a>\u001b[0m     \u001b[39mif\u001b[39;00m i \u001b[39m<\u001b[39m \u001b[39mlen\u001b[39m(json_chat_history[\u001b[39m\"\u001b[39m\u001b[39mCarlus Magnusen\u001b[39m\u001b[39m\"\u001b[39m]):\n",
      "\u001b[0;31mTypeError\u001b[0m: string indices must be integers, not 'str'"
     ]
    }
   ],
   "source": [
    "json_chat_history = build_chat_history(prompt, json_chat_history, bot=0)\n",
    "classification = call_classifier(prompt, verbose=1)\n",
    "\n",
    "if classification == 'chess move':\n",
    "\n",
    "    chess_move = retrieve_chess_algebrainc_notation(prompt, verbose=1)\n",
    "    if chess_move == \"regex_matching_failed\":\n",
    "        chess_move = call_extractor(prompt, verbose=1)\n",
    "\n",
    "    chess_moves.append(chess_move)\n",
    "\n",
    "    # DO STOCKFISH HERE\n",
    "    #best_move = \"Qxd5\"\n",
    "    best_move = \"d5\"\n",
    "\n",
    "    output, json_chat_history = call_chess_bot(prompt, json_chat_history, best_move, verbose=1)\n",
    "\n",
    "    chess_move = retrieve_chess_algebrainc_notation(output, verbose=1)\n",
    "    if chess_move == \"regex_matching_failed\":\n",
    "        chess_move = call_extractor(output, verbose=1)\n",
    "\n",
    "    chess_moves.append(chess_move)\n",
    "\n",
    "if classification == 'no chess move':\n",
    "    output, json_chat_history = call_chat_bot(prompt, formatted_chat_history, verbose=1)"
   ]
  },
  {
   "cell_type": "code",
   "execution_count": 19,
   "metadata": {},
   "outputs": [
    {
     "data": {
      "text/plain": [
       "'  Qxd5.'"
      ]
     },
     "execution_count": 19,
     "metadata": {},
     "output_type": "execute_result"
    }
   ],
   "source": [
    "output"
   ]
  },
  {
   "cell_type": "code",
   "execution_count": 278,
   "metadata": {},
   "outputs": [],
   "source": [
    "string_test = \"\"\"<s>[INST] <<SYS>>\n",
    "Your objective is to extract the chess move that the user played against you.\n",
    "your answer must be jsutified and have a json in the following format:\n",
    "{\"move\": \"<<chess move you extracted in chess algebraic notation>>\"}\n",
    "<</SYS>>\n",
    "\n",
    "I take your pawn with my queen on d5 [/INST]\"\"\""
   ]
  },
  {
   "cell_type": "code",
   "execution_count": 279,
   "metadata": {},
   "outputs": [
    {
     "name": "stderr",
     "output_type": "stream",
     "text": [
      "/home/antonio/anaconda3/envs/chess_bot/lib/python3.11/site-packages/transformers/pipelines/base.py:1101: UserWarning: You seem to be using the pipelines sequentially on GPU. In order to maximize efficiency please use a dataset\n",
      "  warnings.warn(\n"
     ]
    },
    {
     "name": "stdout",
     "output_type": "stream",
     "text": [
      "  Sure! I can extract the chess move you played against me. Based on your statement, you played the move \"Queen takes Pawn on d5\".\n",
      "\n",
      "Here's the JSON format response:\n",
      "\n",
      "{\"move\": \"Qxd5\"}\n"
     ]
    }
   ],
   "source": [
    "print(local_llm(string_test))"
   ]
  },
  {
   "cell_type": "code",
   "execution_count": null,
   "metadata": {},
   "outputs": [],
   "source": [
    "<s>[INST] <<SYS>>\n",
    "{your_system_message}\n",
    "<</SYS>>\n",
    "\n",
    "{user_message_1} [/INST] {model_reply_1}</s><s>[INST] {user_message_2} [/INST]"
   ]
  },
  {
   "cell_type": "code",
   "execution_count": null,
   "metadata": {},
   "outputs": [],
   "source": []
  },
  {
   "cell_type": "code",
   "execution_count": null,
   "metadata": {},
   "outputs": [],
   "source": []
  },
  {
   "cell_type": "code",
   "execution_count": null,
   "metadata": {},
   "outputs": [],
   "source": []
  },
  {
   "cell_type": "code",
   "execution_count": null,
   "metadata": {},
   "outputs": [],
   "source": []
  },
  {
   "cell_type": "code",
   "execution_count": null,
   "metadata": {},
   "outputs": [],
   "source": []
  },
  {
   "cell_type": "code",
   "execution_count": null,
   "metadata": {},
   "outputs": [],
   "source": []
  },
  {
   "cell_type": "code",
   "execution_count": null,
   "metadata": {},
   "outputs": [],
   "source": []
  },
  {
   "cell_type": "code",
   "execution_count": null,
   "metadata": {},
   "outputs": [],
   "source": [
    "sf_config = {\n",
    "    \"Debug Log File\": \"\",\n",
    "    \"Contempt\": 0,\n",
    "    \"Min Split Depth\": 0,\n",
    "    \"Threads\": 8, # More threads will make the engine stronger, but should be kept at less than the number of logical processors on your computer.\n",
    "    \"Ponder\": \"false\",\n",
    "    \"Hash\": 2048, # Default size is 16 MB. It's recommended that you increase this value, but keep it as some power of 2. E.g., if you're fine using 2 GB of RAM, set Hash to 2048 (11th power of 2).\n",
    "    \"MultiPV\": 1,\n",
    "    \"Skill Level\": 20,\n",
    "    \"Move Overhead\": 10,\n",
    "    \"Minimum Thinking Time\": 20,\n",
    "    \"Slow Mover\": 100,\n",
    "    \"UCI_Chess960\": \"false\",\n",
    "    \"UCI_LimitStrength\": \"false\",\n",
    "    \"UCI_Elo\": 9999\n",
    "}\n",
    "\n",
    "Stockfish(path=\"/mnt/c/Users/Antonio/Desktop/Projects/chess_bot/stockfish/stockfish-windows-x86-64-avx2.exe\",  depth=22, parameters=sf_config)"
   ]
  }
 ],
 "metadata": {
  "kernelspec": {
   "display_name": "chess_bot",
   "language": "python",
   "name": "python3"
  },
  "language_info": {
   "codemirror_mode": {
    "name": "ipython",
    "version": 3
   },
   "file_extension": ".py",
   "mimetype": "text/x-python",
   "name": "python",
   "nbconvert_exporter": "python",
   "pygments_lexer": "ipython3",
   "version": "3.11.5"
  },
  "orig_nbformat": 4
 },
 "nbformat": 4,
 "nbformat_minor": 2
}
